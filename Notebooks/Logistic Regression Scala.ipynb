{
 "cells": [
  {
   "cell_type": "code",
   "execution_count": null,
   "id": "0dd34f34",
   "metadata": {},
   "outputs": [],
   "source": [
    "import $ivy.`me.shadaj::scalapy-core:0.5.2`"
   ]
  },
  {
   "cell_type": "code",
   "execution_count": null,
   "id": "fc15ecc0",
   "metadata": {},
   "outputs": [],
   "source": [
    "import me.shadaj.scalapy.py\n",
    "import me.shadaj.scalapy.py.SeqConverters\n",
    "\n",
    "import scala.collection.immutable.HashMap"
   ]
  },
  {
   "cell_type": "code",
   "execution_count": null,
   "id": "84e89e09",
   "metadata": {},
   "outputs": [],
   "source": [
    "val pyLen = py.Dynamic.global.len\n",
    "val pyList = py.Dynamic.global.list\n",
    "val pyDict = py.Dynamic.global.dict\n",
    "val pyFloat = py.Dynamic.global.float\n",
    "\n",
    "type PyAny = py.Any"
   ]
  },
  {
   "cell_type": "code",
   "execution_count": null,
   "id": "174a2a8e",
   "metadata": {},
   "outputs": [],
   "source": [
    "  val baseDir = \"/media/kwa/Data Disk/home/kwa/Projects/corpora/aclImdb/\""
   ]
  },
  {
   "cell_type": "code",
   "execution_count": null,
   "id": "d4027011",
   "metadata": {},
   "outputs": [],
   "source": [
    "  val random = py.module(\"random\")\n",
    "  val np = py.module(\"numpy\")\n",
    "  val torch = py.module(\"torch\")\n",
    "  val tqdm = py.module(\"tqdm\")\n",
    "\n",
    "  // set this variable to a number to be used as the random seed\n",
    "  // or to None if you don't want to set a random seed\n",
    "  val seedOpt = Some(1234) // None\n",
    "  seedOpt.foreach { seed =>\n",
    "    random.seed(seed)\n",
    "    np.random.seed(seed)\n",
    "    torch.manual_seed(seed)\n",
    "  }"
   ]
  },
  {
   "cell_type": "code",
   "execution_count": null,
   "id": "3d42211c",
   "metadata": {},
   "outputs": [],
   "source": [
    "  val glob = py.module(\"glob\")\n",
    "  var posFiles = glob.glob(baseDir + \"train/pos/*.txt\")\n",
    "  var negFiles = glob.glob(baseDir + \"train/neg/*.txt\")\n",
    "\n",
    "  println(s\"number of positive reviews: ${pyLen(posFiles)}\")\n",
    "  println(s\"number of negative reviews: ${pyLen(negFiles)}\")"
   ]
  },
  {
   "cell_type": "code",
   "execution_count": null,
   "id": "f8abb72e",
   "metadata": {},
   "outputs": [],
   "source": [
    "  val sklearn = py.module(\"sklearn.feature_extraction.text\")\n",
    "  val cv = sklearn.CountVectorizer(input = \"filename\")\n",
    "  var docTermMatrix = cv.fit_transform(posFiles + negFiles)"
   ]
  },
  {
   "cell_type": "code",
   "execution_count": null,
   "id": "3b47d072",
   "metadata": {},
   "outputs": [],
   "source": [
    "  var xTrain = docTermMatrix.toarray()\n",
    "  println(xTrain.shape)"
   ]
  },
  {
   "cell_type": "code",
   "execution_count": null,
   "id": "1e49d9ac",
   "metadata": {
    "scrolled": true
   },
   "outputs": [],
   "source": [
    "  // training labels\n",
    "  var yPos = np.ones(pyLen(posFiles))\n",
    "  var yNeg = np.zeros(pyLen(negFiles))\n",
    "  var yTrain = np.concatenate(pyList(Seq(yPos, yNeg).toPythonProxy))\n",
    "  println(yTrain)"
   ]
  },
  {
   "cell_type": "code",
   "execution_count": null,
   "id": "4027edd7",
   "metadata": {
    "scrolled": false
   },
   "outputs": [],
   "source": [
    "  val Seq(nExamples, nFeatures) = xTrain.shape.as[Seq[Int]]"
   ]
  },
  {
   "cell_type": "code",
   "execution_count": null,
   "id": "10ad432d",
   "metadata": {},
   "outputs": [],
   "source": [
    "  val lr = 1e-1f\n",
    "  val nEpochs = 10\n",
    "\n",
    "  val model = torch.nn.Linear(nFeatures, 1)\n",
    "  val lossFunc = torch.nn.BCEWithLogitsLoss()\n",
    "  val optimizer = torch.optim.SGD(model.parameters(), lr = lr)\n",
    "\n",
    "  xTrain = torch.tensor(xTrain, dtype = torch.float32)\n",
    "  yTrain = torch.tensor(yTrain, dtype = torch.float32)\n",
    "\n",
    "  val indices = np.arange(nExamples)\n",
    "  Range(0, nEpochs).foreach { epoch =>\n",
    "    // randomize training examplesa\n",
    "    np.random.shuffle(indices)\n",
    "    // for each training exmaple\n",
    "    val progressBar = tqdm.tqdm(indices, desc = s\"epoch ${epoch + 1}\")\n",
    "    Range(0, nExamples).foreach { index =>\n",
    "      val i = indices.bracketAccess(index)\n",
    "      val x = xTrain.bracketAccess(i)\n",
    "      val yTrue = yTrain.bracketAccess(i)\n",
    "      // make predictions\n",
    "      val yPred = model(x)\n",
    "      // calculate loss\n",
    "      val loss = lossFunc(yPred.bracketAccess(0), yTrue)\n",
    "      // calculate gradients through back-propagation\n",
    "      loss.backward()\n",
    "      // optimize model parameters\n",
    "      optimizer.step()\n",
    "      // ensure gradients are set to zero\n",
    "      model.zero_grad()\n",
    "      progressBar.update(n = 1)\n",
    "    }\n",
    "    progressBar.close()\n",
    "  }"
   ]
  },
  {
   "cell_type": "code",
   "execution_count": null,
   "id": "4c388567",
   "metadata": {
    "scrolled": true
   },
   "outputs": [],
   "source": [
    "  posFiles = glob.glob(baseDir + \"test/pos/*.txt\")\n",
    "  negFiles = glob.glob(baseDir + \"test/neg/*.txt\")\n",
    "  docTermMatrix = cv.transform(posFiles + negFiles)\n",
    "  var xTest = docTermMatrix.toarray()\n",
    "  xTest = torch.tensor(xTest, dtype = torch.float32)\n",
    "  yPos = np.ones(pyLen(posFiles))\n",
    "  yNeg = np.zeros(pyLen(negFiles))\n",
    "  val yTest = np.concatenate(pyList(Seq(yPos, yNeg).toPythonProxy)).as[Seq[Float]]"
   ]
  },
  {
   "cell_type": "code",
   "execution_count": null,
   "id": "843edb6e",
   "metadata": {},
   "outputs": [],
   "source": [
    "  val yPred = {\n",
    "    val result = model(xTest)\n",
    "    val seq = result.detach().cpu().numpy().as[Seq[Float]]\n",
    "    val ans = seq.map { value => if (value > 0f) 1f else 0f }\n",
    "\n",
    "    ans\n",
    "  }"
   ]
  },
  {
   "cell_type": "code",
   "execution_count": null,
   "id": "d10fc12c",
   "metadata": {},
   "outputs": [],
   "source": [
    "  def binaryClassificationReport(yTrue: Seq[Float], yPred: Seq[Float]): Map[String, Float] = {\n",
    "    // count true positives, false positives, true negatives, and false negatives\n",
    "    var (tp, fp, tn, fn) = (0f, 0f ,0f, 0f)\n",
    "\n",
    "    for ((gold, pred) <- yTrue.zip(yPred)) {\n",
    "      if (pred == 1f)\n",
    "        if (gold == 1f) tp += 1\n",
    "        else fp += 1\n",
    "      else\n",
    "        if (gold == 0f) tn += 1\n",
    "        else fn += 1\n",
    "    }\n",
    "    // calculate precision and recall\n",
    "    val precision = tp / (tp + fp)\n",
    "    val recall = tp / (tp + fn)\n",
    "    // calculate f1 score\n",
    "    val fscore = 2 * precision * recall / (precision + recall)\n",
    "    // calculate accuracy\n",
    "    val accuracy = (tp + tn) / yTrue.length\n",
    "    // number of positive labels in yTrue\n",
    "    val support = yTrue.sum\n",
    "\n",
    "    HashMap(\n",
    "      \"precision\" -> precision,\n",
    "      \"recall\" -> recall,\n",
    "      \"f1-score\" -> fscore,\n",
    "      \"support\" -> support,\n",
    "      \"accuracy\" -> accuracy\n",
    "    )\n",
    "  }"
   ]
  },
  {
   "cell_type": "code",
   "execution_count": null,
   "id": "1d3232a3",
   "metadata": {},
   "outputs": [],
   "source": [
    "  println(binaryClassificationReport(yTest, yPred))"
   ]
  }
 ],
 "metadata": {
  "kernelspec": {
   "display_name": "Scala (2.12)",
   "language": "scala",
   "name": "scala212"
  },
  "language_info": {
   "codemirror_mode": "text/x-scala",
   "file_extension": ".sc",
   "mimetype": "text/x-scala",
   "name": "scala",
   "nbconvert_exporter": "script",
   "version": "2.12.13"
  }
 },
 "nbformat": 4,
 "nbformat_minor": 5
}
