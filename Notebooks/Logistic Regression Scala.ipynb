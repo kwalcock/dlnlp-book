{
 "cells": [
  {
   "cell_type": "code",
   "execution_count": 17,
   "id": "0dd34f34",
   "metadata": {},
   "outputs": [
    {
     "data": {
      "text/plain": [
       "\u001b[32mimport \u001b[39m\u001b[36m$ivy.$                              \u001b[39m"
      ]
     },
     "execution_count": 17,
     "metadata": {},
     "output_type": "execute_result"
    }
   ],
   "source": [
    "import $ivy.`me.shadaj::scalapy-core:0.5.2`"
   ]
  },
  {
   "cell_type": "code",
   "execution_count": 18,
   "id": "fc15ecc0",
   "metadata": {},
   "outputs": [
    {
     "data": {
      "text/plain": [
       "\u001b[32mimport \u001b[39m\u001b[36mme.shadaj.scalapy.py\n",
       "\u001b[39m\n",
       "\u001b[32mimport \u001b[39m\u001b[36mme.shadaj.scalapy.py.SeqConverters\n",
       "\n",
       "\u001b[39m\n",
       "\u001b[32mimport \u001b[39m\u001b[36mscala.collection.immutable.HashMap\u001b[39m"
      ]
     },
     "execution_count": 18,
     "metadata": {},
     "output_type": "execute_result"
    }
   ],
   "source": [
    "import me.shadaj.scalapy.py\n",
    "import me.shadaj.scalapy.py.SeqConverters\n",
    "\n",
    "import scala.collection.immutable.HashMap"
   ]
  },
  {
   "cell_type": "code",
   "execution_count": 19,
   "id": "84e89e09",
   "metadata": {},
   "outputs": [
    {
     "data": {
      "text/plain": [
       "\u001b[36mpyLen\u001b[39m: \u001b[32mpy\u001b[39m.\u001b[32mDynamic\u001b[39m = <built-in function len>\n",
       "\u001b[36mpyList\u001b[39m: \u001b[32mpy\u001b[39m.\u001b[32mDynamic\u001b[39m = <class 'list'>\n",
       "\u001b[36mpyDict\u001b[39m: \u001b[32mpy\u001b[39m.\u001b[32mDynamic\u001b[39m = <class 'dict'>\n",
       "\u001b[36mpyFloat\u001b[39m: \u001b[32mpy\u001b[39m.\u001b[32mDynamic\u001b[39m = <class 'float'>\n",
       "defined \u001b[32mtype\u001b[39m \u001b[36mPyAny\u001b[39m"
      ]
     },
     "execution_count": 19,
     "metadata": {},
     "output_type": "execute_result"
    }
   ],
   "source": [
    "val pyLen = py.Dynamic.global.len\n",
    "val pyList = py.Dynamic.global.list\n",
    "val pyDict = py.Dynamic.global.dict\n",
    "val pyFloat = py.Dynamic.global.float\n",
    "\n",
    "type PyAny = py.Any"
   ]
  },
  {
   "cell_type": "code",
   "execution_count": 20,
   "id": "174a2a8e",
   "metadata": {},
   "outputs": [
    {
     "data": {
      "text/plain": [
       "\u001b[36mbaseDir\u001b[39m: \u001b[32mString\u001b[39m = \u001b[32m\"/media/kwa/Data Disk/home/kwa/Projects/corpora/aclImdb/\"\u001b[39m"
      ]
     },
     "execution_count": 20,
     "metadata": {},
     "output_type": "execute_result"
    }
   ],
   "source": [
    "  val baseDir = \"/media/kwa/Data Disk/home/kwa/Projects/corpora/aclImdb/\""
   ]
  },
  {
   "cell_type": "code",
   "execution_count": 21,
   "id": "d4027011",
   "metadata": {},
   "outputs": [
    {
     "data": {
      "text/plain": [
       "\u001b[36mrandom\u001b[39m: \u001b[32mpy\u001b[39m.\u001b[32mModule\u001b[39m = <module 'random' from '/usr/lib/python3.8/random.py'>\n",
       "\u001b[36mnp\u001b[39m: \u001b[32mpy\u001b[39m.\u001b[32mModule\u001b[39m = <module 'numpy' from '/home/kwa/.local/lib/python3.8/site-packages/numpy/__init__.py'>\n",
       "\u001b[36mtorch\u001b[39m: \u001b[32mpy\u001b[39m.\u001b[32mModule\u001b[39m = <module 'torch' from '/home/kwa/.local/lib/python3.8/site-packages/torch/__init__.py'>\n",
       "\u001b[36mtqdm\u001b[39m: \u001b[32mpy\u001b[39m.\u001b[32mModule\u001b[39m = <module 'tqdm' from '/home/kwa/.local/lib/python3.8/site-packages/tqdm/__init__.py'>\n",
       "\u001b[36mseedOpt\u001b[39m: \u001b[32mSome\u001b[39m[\u001b[32mInt\u001b[39m] = \u001b[33mSome\u001b[39m(\u001b[32m1234\u001b[39m)"
      ]
     },
     "execution_count": 21,
     "metadata": {},
     "output_type": "execute_result"
    }
   ],
   "source": [
    "  val random = py.module(\"random\")\n",
    "  val np = py.module(\"numpy\")\n",
    "  val torch = py.module(\"torch\")\n",
    "  val tqdm = py.module(\"tqdm\")\n",
    "\n",
    "  // set this variable to a number to be used as the random seed\n",
    "  // or to None if you don't want to set a random seed\n",
    "  val seedOpt = Some(1234) // None\n",
    "  seedOpt.foreach { seed =>\n",
    "    random.seed(seed)\n",
    "    np.random.seed(seed)\n",
    "    torch.manual_seed(seed)\n",
    "  }"
   ]
  },
  {
   "cell_type": "code",
   "execution_count": 22,
   "id": "3d42211c",
   "metadata": {},
   "outputs": [
    {
     "name": "stdout",
     "output_type": "stream",
     "text": [
      "number of positive reviews: 12500\n",
      "number of negative reviews: 12500\n"
     ]
    },
    {
     "data": {
      "text/html": [
       "<div class=\"jp-RenderedText\">\n",
       "<pre><code><span style=\"color: rgb(0, 187, 187)\"><span class=\"ansi-cyan-fg\">glob</span></span>: <span style=\"color: rgb(0, 187, 0)\"><span class=\"ansi-green-fg\">py</span></span>.<span style=\"color: rgb(0, 187, 0)\"><span class=\"ansi-green-fg\">Module</span></span> = &lt;module 'glob' from '/usr/lib/python3.8/glob.py'&gt;\n",
       "<span style=\"color: rgb(0, 187, 187)\"><span class=\"ansi-cyan-fg\">posFiles</span></span>: <span style=\"color: rgb(0, 187, 0)\"><span class=\"ansi-green-fg\">py</span></span>.<span style=\"color: rgb(0, 187, 0)\"><span class=\"ansi-green-fg\">Dynamic</span></span> = ['/media/kwa/Data Disk/home/kwa/Projects/corpora/aclImdb/test/pos/0_10.txt', '/media/kwa/Data Disk/home/kwa/Projects/corpora/aclImdb/test/pos/10000_7.txt', '/media/kwa/Data Disk/home/kwa/Projects/corpora/aclImdb/test/pos/10001_9.txt', '/media/kwa/Data Disk/home/kwa/Projects/corpora/aclImdb/test/pos/10002_8.txt', '/media/kwa/Data Disk/home/kwa/Projects/corpora/aclImdb/test/pos/10003_8.txt', '/media/kwa/Data Disk/home/kwa/Projects/corpora/aclImdb/test/pos/10004_9.txt', '/media/kwa/Data Disk/home/kwa/Projects/corpora/aclImdb/test/pos/10005_8.txt', '/media/kwa/Data Disk/home/kwa/Projects/corpora/aclImdb/test/pos/10006_7.txt', '/media/kwa/Data Disk/home/kwa/Projects/corpora/aclImdb/test/pos/10007_10.txt', '/media/kwa/Data Disk/home/kwa/Projects/corpora/aclImdb/test/pos/10008_8.txt', '/media/kwa/Data Disk/home/kwa/Projects/corpora/aclImdb/test/pos/10009_10.txt', '/media/kwa/Data Disk/home/kwa/Projects/corpora/aclImdb/test/pos/1000_9.txt', '/media/kwa/Data Disk/home/kwa/Projects/corpora/aclImdb/test/pos/10010_9.txt', '/media/kwa/Data Disk/home/kwa/Projects/corpora/aclImdb/test/pos/10011_9.txt', '/media/kwa/Data Disk/home/kwa/Projects/corpora/aclImdb/test/pos/10012_9.txt', '/media/kwa/Data Disk/home/kwa/Projects/corpora/aclImdb/test/pos/10013_9.txt', '/media/kwa/Data Disk/home/kwa/Projects/corpora/aclImdb/test/pos/10014_7.txt', '/media/kwa/Data Disk/home/kwa/Projects/corpora/aclImdb/test/pos/10015_8.txt', '/media/kwa/Data Disk/home/kwa/Projects/corpora/aclImdb/test/pos/10016_8.txt', '/media/kwa/Data Disk/home/kwa/Projects/corpora/aclImdb/test/pos/10017_8.txt', '/media/kwa/Data Disk/home/kwa/Projects/corpora/aclImdb/test/pos/10018_8.txt', '/media/kwa/Data Disk/home/kwa/Projects/corpora/aclImdb/test/pos/10019_8.txt', '/media/kwa/Data Disk/home/kwa/Projects/corpora/aclImdb/test/pos/1001_10.txt', '/media/kwa/Data Disk/home/kwa/Projects/corpora/aclImdb/test/pos/10020_8.txt', '/media/kwa/Data Disk/home/kwa/Projects/corpora/aclImdb/test/pos/11_8.txt', '/media/kwa/Data Disk/home/kwa/Projects/corpora/aclImdb/test/pos/12000_9.txt', '/media/kwa/Data Disk/home/kwa/Projects/corpora/aclImdb/test/pos/12001_8.txt', '/media/kwa/Data Disk/home/kwa/Projects/corpora/aclImdb/test/pos/12002_8.txt', '/media/kwa/Data Disk/home/kwa/Projects/corpora/aclImdb/test/pos/12003_9.txt', '/media/kwa/Data Disk/home/kwa/Projects/corpora/aclImdb/test/pos/12004_9.txt', '/media/kwa/Data Disk/home/kwa/Projects/corpora/aclImdb/test/pos/12005_7.txt', '/media/kwa/Data Disk/home/kwa/Projects/corpora/aclImdb/test/pos/12006_10.txt', '/media/kwa/Data Disk/home/kwa/Projects/corpora/aclImdb/test/pos/12007_8.txt', '/media/kwa/Data Disk/home/kwa/Projects/corpora/aclImdb/test/pos/12008_8.txt', '/media/kwa/Data Disk/home/kwa/Projects/corpora/aclImdb/test/pos/12009_10.txt', '/media/kwa/Data Disk/home/kwa/Projects/corpora/aclImdb/test/pos/1200_10.txt', '/media/kwa/Data Disk/home/kwa/Projects/corpora/aclImdb/test/pos/12010_8.txt', '/media/kwa/Data Disk/home/kwa/Projects/corpora/aclImdb/test/pos/12011_8.txt', '/media/kwa/Data Disk/home/kwa/Projects/corpora/aclImdb/test/pos/12012_10.txt', '/media/kwa/Data Disk/home/kwa/Projects/...\n",
       "<span style=\"color: rgb(0, 187, 187)\"><span class=\"ansi-cyan-fg\">negFiles</span></span>: <span style=\"color: rgb(0, 187, 0)\"><span class=\"ansi-green-fg\">py</span></span>.<span style=\"color: rgb(0, 187, 0)\"><span class=\"ansi-green-fg\">Dynamic</span></span> = <style>@keyframes fadein { from { opacity: 0; } to { opacity: 1; } }</style><span style=\"animation: fadein 2s;\">['/media/kwa/Data Disk/home/kwa/Projects/corpora/aclImdb/test/neg/0_2.txt', '/media/kwa/Data Disk/home/kwa/Projects/corpora/aclImdb/test/neg/10000_4.txt', '/media/kwa/Data Disk/home/kwa/Projects/corpora/aclImdb/test/neg/10001_1.txt', '/media/kwa/Data Disk/home/kwa/Projects/corpora/aclImdb/test/neg/10002_3.txt', '/media/kwa/Data Disk/home/kwa/Projects/corpora/aclImdb/test/neg/10003_3.txt', '/media/kwa/Data Disk/home/kwa/Projects/corpora/aclImdb/test/neg/10004_2.txt', '/media/kwa/Data Disk/home/kwa/Projects/corpora/aclImdb/test/neg/10005_2.txt', '/media/kwa/Data Disk/home/kwa/Projects/corpora/aclImdb/test/neg/10006_2.txt', '/media/kwa/Data Disk/home/kwa/Projects/corpora/aclImdb/test/neg/10007_4.txt', '/media/kwa/Data Disk/home/kwa/Projects/corpora/aclImdb/test/neg/10008_4.txt', '/media/kwa/Data Disk/home/kwa/Projects/corpora/aclImdb/test/neg/10009_3.txt', '/media/kwa/Data Disk/home/kwa/Projects/corpora/aclImdb/test/neg/1000_3.txt', '/media/kwa/Data Disk/home/kwa/Projects/corpora/aclImdb/test/neg/10010_2.txt', '/media/kwa/Data Disk/home/kwa/Projects/corpora/aclImdb/test/neg/10011_1.txt', '/media/kwa/Data Disk/home/kwa/Projects/corpora/aclImdb/test/neg/10012_1.txt', '/media/kwa/Data Disk/home/kwa/Projects/corpora/aclImdb/test/neg/10013_4.txt', '/media/kwa/Data Disk/home/kwa/Projects/corpora/aclImdb/test/neg/10014_2.txt', '/media/kwa/Data Disk/home/kwa/Projects/corpora/aclImdb/test/neg/10015_4.txt', '/media/kwa/Data Disk/home/kwa/Projects/corpora/aclImdb/test/neg/10016_3.txt', '/media/kwa/Data Disk/home/kwa/Projects/corpora/aclImdb/test/neg/10017_1.txt', '/media/kwa/Data Disk/home/kwa/Projects/corpora/aclImdb/test/neg/10018_1.txt', '/media/kwa/Data Disk/home/kwa/Projects/corpora/aclImdb/test/neg/10019_1.txt', '/media/kwa/Data Disk/home/kwa/Projects/corpora/aclImdb/test/neg/1001_4.txt', '/media/kwa/Data Disk/home/kwa/Projects/corpora/aclImdb/test/neg/10020_1.txt', '/media/kwa/Data Disk/home/kwa/Projects/corpora/aclImdb/test/neg/11_3.txt', '/media/kwa/Data Disk/home/kwa/Projects/corpora/aclImdb/test/neg/12000_4.txt', '/media/kwa/Data Disk/home/kwa/Projects/corpora/aclImdb/test/neg/12001_3.txt', '/media/kwa/Data Disk/home/kwa/Projects/corpora/aclImdb/test/neg/12002_4.txt', '/media/kwa/Data Disk/home/kwa/Projects/corpora/aclImdb/test/neg/12003_4.txt', '/media/kwa/Data Disk/home/kwa/Projects/corpora/aclImdb/test/neg/12004_2.txt', '/media/kwa/Data Disk/home/kwa/Projects/corpora/aclImdb/test/neg/12005_3.txt', '/media/kwa/Data Disk/home/kwa/Projects/corpora/aclImdb/test/neg/12006_2.txt', '/media/kwa/Data Disk/home/kwa/Projects/corpora/aclImdb/test/neg/12007_2.txt', '/media/kwa/Data Disk/home/kwa/Projects/corpora/aclImdb/test/neg/12008_1.txt', '/media/kwa/Data Disk/home/kwa/Projects/corpora/aclImdb/test/neg/12009_1.txt', '/media/kwa/Data Disk/home/kwa/Projects/corpora/aclImdb/test/neg/1200_1.txt', '/media/kwa/Data Disk/home/kwa/Projects/corpora/aclImdb/test/neg/12010_1.txt', '/media/kwa/Data Disk/home/kwa/Projects/corpora/aclImdb/test/neg/12011_2.txt', '/media/kwa/Data Disk/home/kwa/Projects/corpora/aclImdb/test/neg/12012_4.txt', '/media/kwa/Data Disk/home/kwa/Projects/corpora/...</span></code></pre>\n",
       "</div>"
      ],
      "text/plain": [
       "\u001b[36mglob\u001b[39m: \u001b[32mpy\u001b[39m.\u001b[32mModule\u001b[39m = <module 'glob' from '/usr/lib/python3.8/glob.py'>\n",
       "\u001b[36mposFiles\u001b[39m: \u001b[32mpy\u001b[39m.\u001b[32mDynamic\u001b[39m = ['/media/kwa/Data Disk/home/kwa/Projects/corpora/aclImdb/test/pos/0_10.txt', '/media/kwa/Data Disk/home/kwa/Projects/corpora/aclImdb/test/pos/10000_7.txt', '/media/kwa/Data Disk/home/kwa/Projects/corpora/aclImdb/test/pos/10001_9.txt', '/media/kwa/Data Disk/home/kwa/Projects/corpora/aclImdb/test/pos/10002_8.txt', '/media/kwa/Data Disk/home/kwa/Projects/corpora/aclImdb/test/pos/10003_8.txt', '/media/kwa/Data Disk/home/kwa/Projects/corpora/aclImdb/test/pos/10004_9.txt', '/media/kwa/Data Disk/home/kwa/Projects/corpora/aclImdb/test/pos/10005_8.txt', '/media/kwa/Data Disk/home/kwa/Projects/corpora/aclImdb/test/pos/10006_7.txt', '/media/kwa/Data Disk/home/kwa/Projects/corpora/aclImdb/test/pos/10007_10.txt', '/media/kwa/Data Disk/home/kwa/Projects/corpora/aclImdb/test/pos/10008_8.txt', '/media/kwa/Data Disk/home/kwa/Projects/corpora/aclImdb/test/pos/10009_10.txt', '/media/kwa/Data Disk/home/kwa/Projects/corpora/aclImdb/test/pos/1000_9.txt', '/media/kwa/Data Disk/home/kwa/Projects/corpora/aclImdb/test/pos/10010_9.txt', '/media/kwa/Data Disk/home/kwa/Projects/corpora/aclImdb/test/pos/10011_9.txt', '/media/kwa/Data Disk/home/kwa/Projects/corpora/aclImdb/test/pos/10012_9.txt', '/media/kwa/Data Disk/home/kwa/Projects/corpora/aclImdb/test/pos/10013_9.txt', '/media/kwa/Data Disk/home/kwa/Projects/corpora/aclImdb/test/pos/10014_7.txt', '/media/kwa/Data Disk/home/kwa/Projects/corpora/aclImdb/test/pos/10015_8.txt', '/media/kwa/Data Disk/home/kwa/Projects/corpora/aclImdb/test/pos/10016_8.txt', '/media/kwa/Data Disk/home/kwa/Projects/corpora/aclImdb/test/pos/10017_8.txt', '/media/kwa/Data Disk/home/kwa/Projects/corpora/aclImdb/test/pos/10018_8.txt', '/media/kwa/Data Disk/home/kwa/Projects/corpora/aclImdb/test/pos/10019_8.txt', '/media/kwa/Data Disk/home/kwa/Projects/corpora/aclImdb/test/pos/1001_10.txt', '/media/kwa/Data Disk/home/kwa/Projects/corpora/aclImdb/test/pos/10020_8.txt', '/media/kwa/Data Disk/home/kwa/Projects/corpora/aclImdb/test/pos/11_8.txt', '/media/kwa/Data Disk/home/kwa/Projects/corpora/aclImdb/test/pos/12000_9.txt', '/media/kwa/Data Disk/home/kwa/Projects/corpora/aclImdb/test/pos/12001_8.txt', '/media/kwa/Data Disk/home/kwa/Projects/corpora/aclImdb/test/pos/12002_8.txt', '/media/kwa/Data Disk/home/kwa/Projects/corpora/aclImdb/test/pos/12003_9.txt', '/media/kwa/Data Disk/home/kwa/Projects/corpora/aclImdb/test/pos/12004_9.txt', '/media/kwa/Data Disk/home/kwa/Projects/corpora/aclImdb/test/pos/12005_7.txt', '/media/kwa/Data Disk/home/kwa/Projects/corpora/aclImdb/test/pos/12006_10.txt', '/media/kwa/Data Disk/home/kwa/Projects/corpora/aclImdb/test/pos/12007_8.txt', '/media/kwa/Data Disk/home/kwa/Projects/corpora/aclImdb/test/pos/12008_8.txt', '/media/kwa/Data Disk/home/kwa/Projects/corpora/aclImdb/test/pos/12009_10.txt', '/media/kwa/Data Disk/home/kwa/Projects/corpora/aclImdb/test/pos/1200_10.txt', '/media/kwa/Data Disk/home/kwa/Projects/corpora/aclImdb/test/pos/12010_8.txt', '/media/kwa/Data Disk/home/kwa/Projects/corpora/aclImdb/test/pos/12011_8.txt', '/media/kwa/Data Disk/home/kwa/Projects/corpora/aclImdb/test/pos/12012_10.txt', '/media/kwa/Data Disk/home/kwa/Projects/...\n",
       "\u001b[36mnegFiles\u001b[39m: \u001b[32mpy\u001b[39m.\u001b[32mDynamic\u001b[39m = ['/media/kwa/Data Disk/home/kwa/Projects/corpora/aclImdb/test/neg/0_2.txt', '/media/kwa/Data Disk/home/kwa/Projects/corpora/aclImdb/test/neg/10000_4.txt', '/media/kwa/Data Disk/home/kwa/Projects/corpora/aclImdb/test/neg/10001_1.txt', '/media/kwa/Data Disk/home/kwa/Projects/corpora/aclImdb/test/neg/10002_3.txt', '/media/kwa/Data Disk/home/kwa/Projects/corpora/aclImdb/test/neg/10003_3.txt', '/media/kwa/Data Disk/home/kwa/Projects/corpora/aclImdb/test/neg/10004_2.txt', '/media/kwa/Data Disk/home/kwa/Projects/corpora/aclImdb/test/neg/10005_2.txt', '/media/kwa/Data Disk/home/kwa/Projects/corpora/aclImdb/test/neg/10006_2.txt', '/media/kwa/Data Disk/home/kwa/Projects/corpora/aclImdb/test/neg/10007_4.txt', '/media/kwa/Data Disk/home/kwa/Projects/corpora/aclImdb/test/neg/10008_4.txt', '/media/kwa/Data Disk/home/kwa/Projects/corpora/aclImdb/test/neg/10009_3.txt', '/media/kwa/Data Disk/home/kwa/Projects/corpora/aclImdb/test/neg/1000_3.txt', '/media/kwa/Data Disk/home/kwa/Projects/corpora/aclImdb/test/neg/10010_2.txt', '/media/kwa/Data Disk/home/kwa/Projects/corpora/aclImdb/test/neg/10011_1.txt', '/media/kwa/Data Disk/home/kwa/Projects/corpora/aclImdb/test/neg/10012_1.txt', '/media/kwa/Data Disk/home/kwa/Projects/corpora/aclImdb/test/neg/10013_4.txt', '/media/kwa/Data Disk/home/kwa/Projects/corpora/aclImdb/test/neg/10014_2.txt', '/media/kwa/Data Disk/home/kwa/Projects/corpora/aclImdb/test/neg/10015_4.txt', '/media/kwa/Data Disk/home/kwa/Projects/corpora/aclImdb/test/neg/10016_3.txt', '/media/kwa/Data Disk/home/kwa/Projects/corpora/aclImdb/test/neg/10017_1.txt', '/media/kwa/Data Disk/home/kwa/Projects/corpora/aclImdb/test/neg/10018_1.txt', '/media/kwa/Data Disk/home/kwa/Projects/corpora/aclImdb/test/neg/10019_1.txt', '/media/kwa/Data Disk/home/kwa/Projects/corpora/aclImdb/test/neg/1001_4.txt', '/media/kwa/Data Disk/home/kwa/Projects/corpora/aclImdb/test/neg/10020_1.txt', '/media/kwa/Data Disk/home/kwa/Projects/corpora/aclImdb/test/neg/11_3.txt', '/media/kwa/Data Disk/home/kwa/Projects/corpora/aclImdb/test/neg/12000_4.txt', '/media/kwa/Data Disk/home/kwa/Projects/corpora/aclImdb/test/neg/12001_3.txt', '/media/kwa/Data Disk/home/kwa/Projects/corpora/aclImdb/test/neg/12002_4.txt', '/media/kwa/Data Disk/home/kwa/Projects/corpora/aclImdb/test/neg/12003_4.txt', '/media/kwa/Data Disk/home/kwa/Projects/corpora/aclImdb/test/neg/12004_2.txt', '/media/kwa/Data Disk/home/kwa/Projects/corpora/aclImdb/test/neg/12005_3.txt', '/media/kwa/Data Disk/home/kwa/Projects/corpora/aclImdb/test/neg/12006_2.txt', '/media/kwa/Data Disk/home/kwa/Projects/corpora/aclImdb/test/neg/12007_2.txt', '/media/kwa/Data Disk/home/kwa/Projects/corpora/aclImdb/test/neg/12008_1.txt', '/media/kwa/Data Disk/home/kwa/Projects/corpora/aclImdb/test/neg/12009_1.txt', '/media/kwa/Data Disk/home/kwa/Projects/corpora/aclImdb/test/neg/1200_1.txt', '/media/kwa/Data Disk/home/kwa/Projects/corpora/aclImdb/test/neg/12010_1.txt', '/media/kwa/Data Disk/home/kwa/Projects/corpora/aclImdb/test/neg/12011_2.txt', '/media/kwa/Data Disk/home/kwa/Projects/corpora/aclImdb/test/neg/12012_4.txt', '/media/kwa/Data Disk/home/kwa/Projects/corpora/..."
      ]
     },
     "metadata": {},
     "output_type": "display_data"
    }
   ],
   "source": [
    "  val glob = py.module(\"glob\")\n",
    "  var posFiles = glob.glob(baseDir + \"train/pos/*.txt\")\n",
    "  var negFiles = glob.glob(baseDir + \"train/neg/*.txt\")\n",
    "\n",
    "  println(s\"number of positive reviews: ${pyLen(posFiles)}\")\n",
    "  println(s\"number of negative reviews: ${pyLen(negFiles)}\")"
   ]
  },
  {
   "cell_type": "code",
   "execution_count": 23,
   "id": "f8abb72e",
   "metadata": {},
   "outputs": [
    {
     "data": {
      "text/html": [
       "<div class=\"jp-RenderedText\">\n",
       "<pre><code><span style=\"color: rgb(0, 187, 187)\"><span class=\"ansi-cyan-fg\">sklearn</span></span>: <span style=\"color: rgb(0, 187, 0)\"><span class=\"ansi-green-fg\">py</span></span>.<span style=\"color: rgb(0, 187, 0)\"><span class=\"ansi-green-fg\">Module</span></span> = &lt;module 'sklearn.feature_extraction.text' from '/home/kwa/.local/lib/python3.8/site-packages/sklearn/feature_extraction/text.py'&gt;\n",
       "<span style=\"color: rgb(0, 187, 187)\"><span class=\"ansi-cyan-fg\">cv</span></span>: <span style=\"color: rgb(0, 187, 0)\"><span class=\"ansi-green-fg\">py</span></span>.<span style=\"color: rgb(0, 187, 0)\"><span class=\"ansi-green-fg\">Dynamic</span></span> = CountVectorizer(input='filename')\n",
       "<span style=\"color: rgb(0, 187, 187)\"><span class=\"ansi-cyan-fg\">docTermMatrix</span></span>: <span style=\"color: rgb(0, 187, 0)\"><span class=\"ansi-green-fg\">py</span></span>.<span style=\"color: rgb(0, 187, 0)\"><span class=\"ansi-green-fg\">Dynamic</span></span> = <style>@keyframes fadein { from { opacity: 0; } to { opacity: 1; } }</style><span style=\"animation: fadein 2s;\">  (0, 1231)\t1\n",
       "  (0, 1833)\t1\n",
       "  (0, 2121)\t1\n",
       "  (0, 3258)\t4\n",
       "  (0, 3715)\t1\n",
       "  (0, 4465)\t1\n",
       "  (0, 4521)\t1\n",
       "  (0, 6459)\t1\n",
       "  (0, 6579)\t1\n",
       "  (0, 6663)\t1\n",
       "  (0, 6804)\t1\n",
       "  (0, 9881)\t1\n",
       "  (0, 9962)\t2\n",
       "  (0, 10357)\t1\n",
       "  (0, 11615)\t1\n",
       "  (0, 13089)\t1\n",
       "  (0, 13498)\t1\n",
       "  (0, 15019)\t1\n",
       "  (0, 15846)\t1\n",
       "  (0, 17864)\t1\n",
       "  (0, 18292)\t1\n",
       "  (0, 19326)\t1\n",
       "  (0, 20531)\t2\n",
       "  (0, 21617)\t1\n",
       "  (0, 22081)\t1\n",
       "  :\t:\n",
       "  (24999, 63226)\t1\n",
       "  (24999, 64591)\t1\n",
       "  (24999, 66150)\t1\n",
       "  (24999, 66339)\t3\n",
       "  (24999, 66562)\t1\n",
       "  (24999, 66925)\t1\n",
       "  (24999, 66969)\t1\n",
       "  (24999, 67125)\t3\n",
       "  (24999, 71137)\t1\n",
       "  (24999, 71159)\t1\n",
       "  (24999, 71337)\t1\n",
       "  (24999, 71669)\t1\n",
       "  (24999, 72064)\t1\n",
       "...</span></code></pre>\n",
       "</div>"
      ],
      "text/plain": [
       "\u001b[36msklearn\u001b[39m: \u001b[32mpy\u001b[39m.\u001b[32mModule\u001b[39m = <module 'sklearn.feature_extraction.text' from '/home/kwa/.local/lib/python3.8/site-packages/sklearn/feature_extraction/text.py'>\n",
       "\u001b[36mcv\u001b[39m: \u001b[32mpy\u001b[39m.\u001b[32mDynamic\u001b[39m = CountVectorizer(input='filename')\n",
       "\u001b[36mdocTermMatrix\u001b[39m: \u001b[32mpy\u001b[39m.\u001b[32mDynamic\u001b[39m =   (0, 1231)\t1\n",
       "  (0, 1833)\t1\n",
       "  (0, 2121)\t1\n",
       "  (0, 3258)\t4\n",
       "  (0, 3715)\t1\n",
       "  (0, 4465)\t1\n",
       "  (0, 4521)\t1\n",
       "  (0, 6459)\t1\n",
       "  (0, 6579)\t1\n",
       "  (0, 6663)\t1\n",
       "  (0, 6804)\t1\n",
       "  (0, 9881)\t1\n",
       "  (0, 9962)\t2\n",
       "  (0, 10357)\t1\n",
       "  (0, 11615)\t1\n",
       "  (0, 13089)\t1\n",
       "  (0, 13498)\t1\n",
       "  (0, 15019)\t1\n",
       "  (0, 15846)\t1\n",
       "  (0, 17864)\t1\n",
       "  (0, 18292)\t1\n",
       "  (0, 19326)\t1\n",
       "  (0, 20531)\t2\n",
       "  (0, 21617)\t1\n",
       "  (0, 22081)\t1\n",
       "  :\t:\n",
       "  (24999, 63226)\t1\n",
       "  (24999, 64591)\t1\n",
       "  (24999, 66150)\t1\n",
       "  (24999, 66339)\t3\n",
       "  (24999, 66562)\t1\n",
       "  (24999, 66925)\t1\n",
       "  (24999, 66969)\t1\n",
       "  (24999, 67125)\t3\n",
       "  (24999, 71137)\t1\n",
       "  (24999, 71159)\t1\n",
       "  (24999, 71337)\t1\n",
       "  (24999, 71669)\t1\n",
       "  (24999, 72064)\t1\n",
       "..."
      ]
     },
     "metadata": {},
     "output_type": "display_data"
    }
   ],
   "source": [
    "  val sklearn = py.module(\"sklearn.feature_extraction.text\")\n",
    "  val cv = sklearn.CountVectorizer(input = \"filename\")\n",
    "  var docTermMatrix = cv.fit_transform(posFiles + negFiles)"
   ]
  },
  {
   "cell_type": "code",
   "execution_count": 24,
   "id": "1e49d9ac",
   "metadata": {
    "scrolled": true
   },
   "outputs": [
    {
     "name": "stdout",
     "output_type": "stream",
     "text": [
      "[1. 1. 1. ... 0. 0. 0.]\n"
     ]
    },
    {
     "data": {
      "text/html": [
       "<div class=\"jp-RenderedText\">\n",
       "<pre><code><span style=\"color: rgb(0, 187, 187)\"><span class=\"ansi-cyan-fg\">yPos</span></span>: <span style=\"color: rgb(0, 187, 0)\"><span class=\"ansi-green-fg\">py</span></span>.<span style=\"color: rgb(0, 187, 0)\"><span class=\"ansi-green-fg\">Dynamic</span></span> = [1. 1. 1. ... 1. 1. 1.]\n",
       "<span style=\"color: rgb(0, 187, 187)\"><span class=\"ansi-cyan-fg\">yNeg</span></span>: <span style=\"color: rgb(0, 187, 0)\"><span class=\"ansi-green-fg\">py</span></span>.<span style=\"color: rgb(0, 187, 0)\"><span class=\"ansi-green-fg\">Dynamic</span></span> = <style>@keyframes fadein { from { opacity: 0; } to { opacity: 1; } }</style><span style=\"animation: fadein 2s;\">[0. 0. 0. ... 0. 0. 0.]</span>\n",
       "<span style=\"color: rgb(0, 187, 187)\"><span class=\"ansi-cyan-fg\">yTrain</span></span>: <span style=\"color: rgb(0, 187, 0)\"><span class=\"ansi-green-fg\">py</span></span>.<span style=\"color: rgb(0, 187, 0)\"><span class=\"ansi-green-fg\">Dynamic</span></span> = tensor([1., 1., 1.,  ..., 0., 0., 0.])</code></pre>\n",
       "</div>"
      ],
      "text/plain": [
       "\u001b[36myPos\u001b[39m: \u001b[32mpy\u001b[39m.\u001b[32mDynamic\u001b[39m = [1. 1. 1. ... 1. 1. 1.]\n",
       "\u001b[36myNeg\u001b[39m: \u001b[32mpy\u001b[39m.\u001b[32mDynamic\u001b[39m = [0. 0. 0. ... 0. 0. 0.]\n",
       "\u001b[36myTrain\u001b[39m: \u001b[32mpy\u001b[39m.\u001b[32mDynamic\u001b[39m = tensor([1., 1., 1.,  ..., 0., 0., 0.])"
      ]
     },
     "metadata": {},
     "output_type": "display_data"
    }
   ],
   "source": [
    "  // training labels\n",
    "  var yPos = np.ones(pyLen(posFiles))\n",
    "  var yNeg = np.zeros(pyLen(negFiles))\n",
    "  var yTrain = np.concatenate(pyList(Seq(yPos, yNeg).toPythonProxy))\n",
    "  println(yTrain)"
   ]
  },
  {
   "cell_type": "code",
   "execution_count": 25,
   "id": "4027edd7",
   "metadata": {
    "scrolled": false
   },
   "outputs": [
    {
     "data": {
      "text/plain": [
       "\u001b[36mnExamples\u001b[39m: \u001b[32mInt\u001b[39m = \u001b[32m25000\u001b[39m\n",
       "\u001b[36mnFeatures\u001b[39m: \u001b[32mInt\u001b[39m = \u001b[32m74849\u001b[39m"
      ]
     },
     "execution_count": 25,
     "metadata": {},
     "output_type": "execute_result"
    }
   ],
   "source": [
    "  val Seq(nExamples, nFeatures) = xTrain.shape.as[Seq[Int]]"
   ]
  },
  {
   "cell_type": "code",
   "execution_count": 26,
   "id": "a8087b6f",
   "metadata": {},
   "outputs": [
    {
     "name": "stdout",
     "output_type": "stream",
     "text": [
      "(25000, 74849)\n"
     ]
    },
    {
     "data": {
      "text/html": [
       "<div class=\"jp-RenderedText\">\n",
       "<pre><code><span style=\"color: rgb(0, 187, 187)\"><span class=\"ansi-cyan-fg\">xTrain</span></span>: <span style=\"color: rgb(0, 187, 0)\"><span class=\"ansi-green-fg\">py</span></span>.<span style=\"color: rgb(0, 187, 0)\"><span class=\"ansi-green-fg\">Dynamic</span></span> = <style>@keyframes fadein { from { opacity: 0; } to { opacity: 1; } }</style><span style=\"animation: fadein 2s;\">tensor([[0., 0., 0.,  ..., 0., 0., 0.],\n",
       "        [0., 0., 0.,  ..., 0., 0., 0.],\n",
       "        [0., 0., 0.,  ..., 0., 0., 0.],\n",
       "        ...,\n",
       "        [0., 0., 0.,  ..., 0., 0., 0.],\n",
       "        [0., 0., 0.,  ..., 0., 0., 0.],\n",
       "        [0., 0., 0.,  ..., 0., 0., 0.]])</span></code></pre>\n",
       "</div>"
      ],
      "text/plain": [
       "\u001b[36mxTrain\u001b[39m: \u001b[32mpy\u001b[39m.\u001b[32mDynamic\u001b[39m = tensor([[0., 0., 0.,  ..., 0., 0., 0.],\n",
       "        [0., 0., 0.,  ..., 0., 0., 0.],\n",
       "        [0., 0., 0.,  ..., 0., 0., 0.],\n",
       "        ...,\n",
       "        [0., 0., 0.,  ..., 0., 0., 0.],\n",
       "        [0., 0., 0.,  ..., 0., 0., 0.],\n",
       "        [0., 0., 0.,  ..., 0., 0., 0.]])"
      ]
     },
     "metadata": {},
     "output_type": "display_data"
    }
   ],
   "source": [
    "  var xTrain = docTermMatrix.toarray()\n",
    "  println(xTrain.shape)"
   ]
  },
  {
   "cell_type": "code",
   "execution_count": 27,
   "id": "10ad432d",
   "metadata": {},
   "outputs": [
    {
     "data": {
      "text/plain": [
       "\u001b[36mlr\u001b[39m: \u001b[32mFloat\u001b[39m = \u001b[32m0.1F\u001b[39m\n",
       "\u001b[36mnEpochs\u001b[39m: \u001b[32mInt\u001b[39m = \u001b[32m10\u001b[39m\n",
       "\u001b[36mmodel\u001b[39m: \u001b[32mpy\u001b[39m.\u001b[32mDynamic\u001b[39m = Linear(in_features=74849, out_features=1, bias=True)\n",
       "\u001b[36mlossFunc\u001b[39m: \u001b[32mpy\u001b[39m.\u001b[32mDynamic\u001b[39m = BCEWithLogitsLoss()\n",
       "\u001b[36moptimizer\u001b[39m: \u001b[32mpy\u001b[39m.\u001b[32mDynamic\u001b[39m = SGD (\n",
       "Parameter Group 0\n",
       "    dampening: 0\n",
       "    lr: 0.10000000149011612\n",
       "    momentum: 0\n",
       "    nesterov: False\n",
       "    weight_decay: 0\n",
       ")\n",
       "\u001b[36mindices\u001b[39m: \u001b[32mpy\u001b[39m.\u001b[32mDynamic\u001b[39m = [11050 24879 12525 ... 13257  4922  9245]"
      ]
     },
     "execution_count": 27,
     "metadata": {},
     "output_type": "execute_result"
    }
   ],
   "source": [
    "  val lr = 1e-1f\n",
    "  val nEpochs = 10\n",
    "\n",
    "  val model = torch.nn.Linear(nFeatures, 1)\n",
    "  val lossFunc = torch.nn.BCEWithLogitsLoss()\n",
    "  val optimizer = torch.optim.SGD(model.parameters(), lr = lr)\n",
    "\n",
    "  xTrain = torch.tensor(xTrain, dtype = torch.float32)\n",
    "  yTrain = torch.tensor(yTrain, dtype = torch.float32)\n",
    "\n",
    "  val indices = np.arange(nExamples)\n",
    "  Range(0, nEpochs).foreach { epoch =>\n",
    "    // randomize training examplesa\n",
    "    np.random.shuffle(indices)\n",
    "    // for each training exmaple\n",
    "    val progressBar = tqdm.tqdm(indices, desc = s\"epoch ${epoch + 1}\")\n",
    "    Range(0, nExamples).foreach { index =>\n",
    "      val i = indices.bracketAccess(index)\n",
    "      val x = xTrain.bracketAccess(i)\n",
    "      val yTrue = yTrain.bracketAccess(i)\n",
    "      // make predictions\n",
    "      val yPred = model(x)\n",
    "      // calculate loss\n",
    "      val loss = lossFunc(yPred.bracketAccess(0), yTrue)\n",
    "      // calculate pradients through back-propagation\n",
    "      loss.backward()\n",
    "      // optimize model parameters\n",
    "      optimizer.step()\n",
    "      // ensure gradients are set to zero\n",
    "      model.zero_grad()\n",
    "      progressBar.update(n = 1)\n",
    "    }\n",
    "    progressBar.close()\n",
    "  }"
   ]
  },
  {
   "cell_type": "code",
   "execution_count": 28,
   "id": "4c388567",
   "metadata": {
    "scrolled": true
   },
   "outputs": [
    {
     "data": {
      "text/html": [
       "<div class=\"jp-RenderedText\">\n",
       "<pre><code><span style=\"color: rgb(0, 187, 187)\"><span class=\"ansi-cyan-fg\">xTest</span></span>: <span style=\"color: rgb(0, 187, 0)\"><span class=\"ansi-green-fg\">py</span></span>.<span style=\"color: rgb(0, 187, 0)\"><span class=\"ansi-green-fg\">Dynamic</span></span> = tensor([[0., 0., 0.,  ..., 0., 0., 0.],\n",
       "        [0., 0., 0.,  ..., 0., 0., 0.],\n",
       "        [0., 0., 0.,  ..., 0., 0., 0.],\n",
       "        ...,\n",
       "        [0., 0., 0.,  ..., 0., 0., 0.],\n",
       "        [0., 0., 0.,  ..., 0., 0., 0.],\n",
       "        [0., 0., 0.,  ..., 0., 0., 0.]])\n",
       "<span style=\"color: rgb(0, 187, 187)\"><span class=\"ansi-cyan-fg\">yTest</span></span>: <span style=\"color: rgb(0, 187, 0)\"><span class=\"ansi-green-fg\">Seq</span></span>[<span style=\"color: rgb(0, 187, 0)\"><span class=\"ansi-green-fg\">Float</span></span>] = <span style=\"color: yellow\"><span class=\"ansi-yellow-fg\">Vector</span></span>(\n",
       "  <span style=\"color: rgb(0, 187, 0)\"><span class=\"ansi-green-fg\">1.0F</span></span>,\n",
       "  <span style=\"color: rgb(0, 187, 0)\"><span class=\"ansi-green-fg\">1.0F</span></span>,\n",
       "  <span style=\"color: rgb(0, 187, 0)\"><span class=\"ansi-green-fg\">1.0F</span></span>,\n",
       "  <span style=\"color: rgb(0, 187, 0)\"><span class=\"ansi-green-fg\">1.0F</span></span>,\n",
       "  <span style=\"color: rgb(0, 187, 0)\"><span class=\"ansi-green-fg\">1.0F</span></span>,\n",
       "  <span style=\"color: rgb(0, 187, 0)\"><span class=\"ansi-green-fg\">1.0F</span></span>,\n",
       "  <span style=\"color: rgb(0, 187, 0)\"><span class=\"ansi-green-fg\">1.0F</span></span>,\n",
       "  <span style=\"color: rgb(0, 187, 0)\"><span class=\"ansi-green-fg\">1.0F</span></span>,\n",
       "  <span style=\"color: rgb(0, 187, 0)\"><span class=\"ansi-green-fg\">1.0F</span></span>,\n",
       "  <span style=\"color: rgb(0, 187, 0)\"><span class=\"ansi-green-fg\">1.0F</span></span>,\n",
       "  <span style=\"color: rgb(0, 187, 0)\"><span class=\"ansi-green-fg\">1.0F</span></span>,\n",
       "  <span style=\"color: rgb(0, 187, 0)\"><span class=\"ansi-green-fg\">1.0F</span></span>,\n",
       "  <span style=\"color: rgb(0, 187, 0)\"><span class=\"ansi-green-fg\">1.0F</span></span>,\n",
       "  <span style=\"color: rgb(0, 187, 0)\"><span class=\"ansi-green-fg\">1.0F</span></span>,\n",
       "  <span style=\"color: rgb(0, 187, 0)\"><span class=\"ansi-green-fg\">1.0F</span></span>,\n",
       "  <span style=\"color: rgb(0, 187, 0)\"><span class=\"ansi-green-fg\">1.0F</span></span>,\n",
       "  <span style=\"color: rgb(0, 187, 0)\"><span class=\"ansi-green-fg\">1.0F</span></span>,\n",
       "  <span style=\"color: rgb(0, 187, 0)\"><span class=\"ansi-green-fg\">1.0F</span></span>,\n",
       "  <span style=\"color: rgb(0, 187, 0)\"><span class=\"ansi-green-fg\">1.0F</span></span>,\n",
       "  <span style=\"color: rgb(0, 187, 0)\"><span class=\"ansi-green-fg\">1.0F</span></span>,\n",
       "  <span style=\"color: rgb(0, 187, 0)\"><span class=\"ansi-green-fg\">1.0F</span></span>,\n",
       "  <span style=\"color: rgb(0, 187, 0)\"><span class=\"ansi-green-fg\">1.0F</span></span>,\n",
       "  <span style=\"color: rgb(0, 187, 0)\"><span class=\"ansi-green-fg\">1.0F</span></span>,\n",
       "  <span style=\"color: rgb(0, 187, 0)\"><span class=\"ansi-green-fg\">1.0F</span></span>,\n",
       "  <span style=\"color: rgb(0, 187, 0)\"><span class=\"ansi-green-fg\">1.0F</span></span>,\n",
       "  <span style=\"color: rgb(0, 187, 0)\"><span class=\"ansi-green-fg\">1.0F</span></span>,\n",
       "  <span style=\"color: rgb(0, 187, 0)\"><span class=\"ansi-green-fg\">1.0F</span></span>,\n",
       "  <span style=\"color: rgb(0, 187, 0)\"><span class=\"ansi-green-fg\">1.0F</span></span>,\n",
       "  <span style=\"color: rgb(0, 187, 0)\"><span class=\"ansi-green-fg\">1.0F</span></span>,\n",
       "  <span style=\"color: rgb(0, 187, 0)\"><span class=\"ansi-green-fg\">1.0F</span></span>,\n",
       "  <span style=\"color: rgb(0, 187, 0)\"><span class=\"ansi-green-fg\">1.0F</span></span>,\n",
       "  <span style=\"color: rgb(0, 187, 0)\"><span class=\"ansi-green-fg\">1.0F</span></span>,\n",
       "  <span style=\"color: rgb(0, 187, 0)\"><span class=\"ansi-green-fg\">1.0F</span></span>,\n",
       "  <span style=\"color: rgb(0, 187, 0)\"><span class=\"ansi-green-fg\">1.0F</span></span>,\n",
       "  <span style=\"color: rgb(0, 187, 0)\"><span class=\"ansi-green-fg\">1.0F</span></span>,\n",
       "  <span style=\"color: rgb(0, 187, 0)\"><span class=\"ansi-green-fg\">1.0F</span></span>,\n",
       "  <span style=\"color: rgb(0, 187, 0)\"><span class=\"ansi-green-fg\">1.0F</span></span>,\n",
       "  <span style=\"color: rgb(0, 187, 0)\"><span class=\"ansi-green-fg\">1.0F</span></span>,\n",
       "...</code></pre>\n",
       "</div>"
      ],
      "text/plain": [
       "\u001b[36mxTest\u001b[39m: \u001b[32mpy\u001b[39m.\u001b[32mDynamic\u001b[39m = tensor([[0., 0., 0.,  ..., 0., 0., 0.],\n",
       "        [0., 0., 0.,  ..., 0., 0., 0.],\n",
       "        [0., 0., 0.,  ..., 0., 0., 0.],\n",
       "        ...,\n",
       "        [0., 0., 0.,  ..., 0., 0., 0.],\n",
       "        [0., 0., 0.,  ..., 0., 0., 0.],\n",
       "        [0., 0., 0.,  ..., 0., 0., 0.]])\n",
       "\u001b[36myTest\u001b[39m: \u001b[32mSeq\u001b[39m[\u001b[32mFloat\u001b[39m] = \u001b[33mVector\u001b[39m(\n",
       "  \u001b[32m1.0F\u001b[39m,\n",
       "  \u001b[32m1.0F\u001b[39m,\n",
       "  \u001b[32m1.0F\u001b[39m,\n",
       "  \u001b[32m1.0F\u001b[39m,\n",
       "  \u001b[32m1.0F\u001b[39m,\n",
       "  \u001b[32m1.0F\u001b[39m,\n",
       "  \u001b[32m1.0F\u001b[39m,\n",
       "  \u001b[32m1.0F\u001b[39m,\n",
       "  \u001b[32m1.0F\u001b[39m,\n",
       "  \u001b[32m1.0F\u001b[39m,\n",
       "  \u001b[32m1.0F\u001b[39m,\n",
       "  \u001b[32m1.0F\u001b[39m,\n",
       "  \u001b[32m1.0F\u001b[39m,\n",
       "  \u001b[32m1.0F\u001b[39m,\n",
       "  \u001b[32m1.0F\u001b[39m,\n",
       "  \u001b[32m1.0F\u001b[39m,\n",
       "  \u001b[32m1.0F\u001b[39m,\n",
       "  \u001b[32m1.0F\u001b[39m,\n",
       "  \u001b[32m1.0F\u001b[39m,\n",
       "  \u001b[32m1.0F\u001b[39m,\n",
       "  \u001b[32m1.0F\u001b[39m,\n",
       "  \u001b[32m1.0F\u001b[39m,\n",
       "  \u001b[32m1.0F\u001b[39m,\n",
       "  \u001b[32m1.0F\u001b[39m,\n",
       "  \u001b[32m1.0F\u001b[39m,\n",
       "  \u001b[32m1.0F\u001b[39m,\n",
       "  \u001b[32m1.0F\u001b[39m,\n",
       "  \u001b[32m1.0F\u001b[39m,\n",
       "  \u001b[32m1.0F\u001b[39m,\n",
       "  \u001b[32m1.0F\u001b[39m,\n",
       "  \u001b[32m1.0F\u001b[39m,\n",
       "  \u001b[32m1.0F\u001b[39m,\n",
       "  \u001b[32m1.0F\u001b[39m,\n",
       "  \u001b[32m1.0F\u001b[39m,\n",
       "  \u001b[32m1.0F\u001b[39m,\n",
       "  \u001b[32m1.0F\u001b[39m,\n",
       "  \u001b[32m1.0F\u001b[39m,\n",
       "  \u001b[32m1.0F\u001b[39m,\n",
       "..."
      ]
     },
     "metadata": {},
     "output_type": "display_data"
    }
   ],
   "source": [
    "  posFiles = glob.glob(baseDir + \"test/pos/*.txt\")\n",
    "  negFiles = glob.glob(baseDir + \"test/neg/*.txt\")\n",
    "  docTermMatrix = cv.transform(posFiles + negFiles)\n",
    "  var xTest = docTermMatrix.toarray()\n",
    "  xTest = torch.tensor(xTest, dtype = torch.float32)\n",
    "  yPos = np.ones(pyLen(posFiles))\n",
    "  yNeg = np.zeros(pyLen(negFiles))\n",
    "  val yTest = np.concatenate(pyList(Seq(yPos, yNeg).toPythonProxy)).as[Seq[Float]]"
   ]
  },
  {
   "cell_type": "code",
   "execution_count": 29,
   "id": "843edb6e",
   "metadata": {},
   "outputs": [
    {
     "data": {
      "text/plain": [
       "\u001b[36myPred\u001b[39m: \u001b[32mSeq\u001b[39m[\u001b[32mFloat\u001b[39m] = \u001b[33mVector\u001b[39m(\n",
       "  \u001b[32m1.0F\u001b[39m,\n",
       "  \u001b[32m1.0F\u001b[39m,\n",
       "  \u001b[32m1.0F\u001b[39m,\n",
       "  \u001b[32m1.0F\u001b[39m,\n",
       "  \u001b[32m1.0F\u001b[39m,\n",
       "  \u001b[32m1.0F\u001b[39m,\n",
       "  \u001b[32m1.0F\u001b[39m,\n",
       "  \u001b[32m1.0F\u001b[39m,\n",
       "  \u001b[32m1.0F\u001b[39m,\n",
       "  \u001b[32m1.0F\u001b[39m,\n",
       "  \u001b[32m1.0F\u001b[39m,\n",
       "  \u001b[32m1.0F\u001b[39m,\n",
       "  \u001b[32m1.0F\u001b[39m,\n",
       "  \u001b[32m1.0F\u001b[39m,\n",
       "  \u001b[32m1.0F\u001b[39m,\n",
       "  \u001b[32m1.0F\u001b[39m,\n",
       "  \u001b[32m1.0F\u001b[39m,\n",
       "  \u001b[32m1.0F\u001b[39m,\n",
       "  \u001b[32m1.0F\u001b[39m,\n",
       "  \u001b[32m1.0F\u001b[39m,\n",
       "  \u001b[32m1.0F\u001b[39m,\n",
       "  \u001b[32m1.0F\u001b[39m,\n",
       "  \u001b[32m1.0F\u001b[39m,\n",
       "  \u001b[32m1.0F\u001b[39m,\n",
       "  \u001b[32m1.0F\u001b[39m,\n",
       "  \u001b[32m1.0F\u001b[39m,\n",
       "  \u001b[32m1.0F\u001b[39m,\n",
       "  \u001b[32m1.0F\u001b[39m,\n",
       "  \u001b[32m1.0F\u001b[39m,\n",
       "  \u001b[32m1.0F\u001b[39m,\n",
       "  \u001b[32m1.0F\u001b[39m,\n",
       "  \u001b[32m1.0F\u001b[39m,\n",
       "  \u001b[32m1.0F\u001b[39m,\n",
       "  \u001b[32m1.0F\u001b[39m,\n",
       "  \u001b[32m1.0F\u001b[39m,\n",
       "  \u001b[32m1.0F\u001b[39m,\n",
       "  \u001b[32m1.0F\u001b[39m,\n",
       "  \u001b[32m1.0F\u001b[39m,\n",
       "..."
      ]
     },
     "execution_count": 29,
     "metadata": {},
     "output_type": "execute_result"
    }
   ],
   "source": [
    "  val yPred = {\n",
    "    val result = model(xTest)\n",
    "    val seq = result.detach().cpu().numpy().as[Seq[Float]]\n",
    "    val ans = seq.map { value => if (value > 0f) 1f else 0f }\n",
    "\n",
    "    ans\n",
    "  }"
   ]
  },
  {
   "cell_type": "code",
   "execution_count": 30,
   "id": "d10fc12c",
   "metadata": {},
   "outputs": [
    {
     "data": {
      "text/plain": [
       "defined \u001b[32mfunction\u001b[39m \u001b[36mbinaryClassificationReport\u001b[39m"
      ]
     },
     "execution_count": 30,
     "metadata": {},
     "output_type": "execute_result"
    }
   ],
   "source": [
    "  def binaryClassificationReport(yTrue: Seq[Float], yPred: Seq[Float]): Map[String, Float] = {\n",
    "    // count true positives, false positives, true negatives, and false negatives\n",
    "    var (tp, fp, tn, fn) = (0f, 0f ,0f, 0f)\n",
    "\n",
    "    for ((gold, pred) <- yTrue.zip(yPred)) {\n",
    "      if (pred == 1f)\n",
    "        if (gold == 1f) tp += 1\n",
    "        else fp += 1\n",
    "      else\n",
    "        if (gold == 0f) tn += 1\n",
    "        else fn += 1\n",
    "    }\n",
    "    // calculate precision and recall\n",
    "    val precision = tp / (tp + fp)\n",
    "    val recall = tp / (tp + fn)\n",
    "    // calculate f1 score\n",
    "    val fscore = 2 * precision * recall / (precision + recall)\n",
    "    // calculate accuracy\n",
    "    val accuracy = (tp + tn) / yTrue.length\n",
    "    // number of positive labels in yTrue\n",
    "    val support = yTrue.sum\n",
    "\n",
    "    HashMap(\n",
    "      \"precision\" -> precision,\n",
    "      \"recall\" -> recall,\n",
    "      \"f1-score\" -> fscore,\n",
    "      \"support\" -> support,\n",
    "      \"accuracy\" -> accuracy\n",
    "    )\n",
    "  }"
   ]
  },
  {
   "cell_type": "code",
   "execution_count": 31,
   "id": "1d3232a3",
   "metadata": {},
   "outputs": [
    {
     "name": "stdout",
     "output_type": "stream",
     "text": [
      "Map(support -> 12500.0, precision -> 0.75263816, accuracy -> 0.82176, f1-score -> 0.843209, recall -> 0.95856)\n"
     ]
    }
   ],
   "source": [
    "  println(binaryClassificationReport(yTest, yPred))"
   ]
  },
  {
   "cell_type": "code",
   "execution_count": null,
   "id": "172856d0",
   "metadata": {},
   "outputs": [],
   "source": []
  }
 ],
 "metadata": {
  "kernelspec": {
   "display_name": "Scala (2.12)",
   "language": "scala",
   "name": "scala212"
  },
  "language_info": {
   "codemirror_mode": "text/x-scala",
   "file_extension": ".sc",
   "mimetype": "text/x-scala",
   "name": "scala",
   "nbconvert_exporter": "script",
   "version": "2.12.13"
  }
 },
 "nbformat": 4,
 "nbformat_minor": 5
}
